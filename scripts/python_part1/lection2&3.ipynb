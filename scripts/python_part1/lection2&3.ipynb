{
 "cells": [
  {
   "cell_type": "markdown",
   "metadata": {},
   "source": [
    "## Лекция 2: Золотой Фонд Python\n"
   ]
  },
  {
   "cell_type": "code",
   "execution_count": 1,
   "metadata": {},
   "outputs": [],
   "source": [
    "T = 1,2,3,4,5,6,7,8,9\n",
    "a,b, *rest = T"
   ]
  },
  {
   "cell_type": "code",
   "execution_count": 4,
   "metadata": {},
   "outputs": [
    {
     "name": "stdout",
     "output_type": "stream",
     "text": [
      "1\n",
      "2\n",
      "[3, 4, 5, 6, 7, 8, 9]\n"
     ]
    }
   ],
   "source": [
    "print(a)\n",
    "print(b)\n",
    "print(rest)"
   ]
  },
  {
   "cell_type": "code",
   "execution_count": 7,
   "metadata": {},
   "outputs": [
    {
     "name": "stdout",
     "output_type": "stream",
     "text": [
      "1;2;3;4;5;6;7;8;9!\n"
     ]
    }
   ],
   "source": [
    "# поэлементная печать!\n",
    "print(*T, sep= ';', end = '!\\n')"
   ]
  },
  {
   "cell_type": "code",
   "execution_count": 8,
   "metadata": {},
   "outputs": [],
   "source": [
    "def hello_n(name:str, n:int):\n",
    "    for i in range(n):\n",
    "        print('Hello,', name)"
   ]
  },
  {
   "cell_type": "code",
   "execution_count": 11,
   "metadata": {},
   "outputs": [
    {
     "name": "stdout",
     "output_type": "stream",
     "text": [
      "Hello, Вася\n",
      "Hello, Вася\n",
      "Hello, Вася\n"
     ]
    }
   ],
   "source": [
    "vasya = 'Вася', 3\n",
    "hello_n(*vasya)"
   ]
  },
  {
   "cell_type": "code",
   "execution_count": 14,
   "metadata": {},
   "outputs": [
    {
     "name": "stdout",
     "output_type": "stream",
     "text": [
      "0:vasya\n",
      "1:petya\n",
      "2:masha\n"
     ]
    }
   ],
   "source": [
    "A = ['vasya', 'petya', 'masha']\n",
    "for i, name in enumerate(A):\n",
    "    print(str(i) + ':' + name)"
   ]
  },
  {
   "cell_type": "code",
   "execution_count": 18,
   "metadata": {},
   "outputs": [],
   "source": [
    "from random import *\n",
    "import turtle"
   ]
  },
  {
   "cell_type": "code",
   "execution_count": 16,
   "metadata": {},
   "outputs": [
    {
     "data": {
      "text/plain": [
       "0.467329253869999"
      ]
     },
     "execution_count": 16,
     "metadata": {},
     "output_type": "execute_result"
    }
   ],
   "source": [
    "random()"
   ]
  },
  {
   "cell_type": "code",
   "execution_count": 17,
   "metadata": {},
   "outputs": [
    {
     "data": {
      "text/plain": [
       "48"
      ]
     },
     "execution_count": 17,
     "metadata": {},
     "output_type": "execute_result"
    }
   ],
   "source": [
    "randint(0, 359)"
   ]
  },
  {
   "cell_type": "code",
   "execution_count": 19,
   "metadata": {},
   "outputs": [],
   "source": [
    "for i in range(50):\n",
    "    angle, length = randint(0,359), random()*50\n",
    "    turtle.forward(length)\n",
    "    turtle.left(angle)"
   ]
  },
  {
   "cell_type": "code",
   "execution_count": 3,
   "metadata": {},
   "outputs": [
    {
     "name": "stdout",
     "output_type": "stream",
     "text": [
      "1 2 3 4 5\n",
      "[1, 2, 3, 4, 5]\n"
     ]
    }
   ],
   "source": [
    "A = list(map(int, input().split()))\n",
    "print(A)"
   ]
  },
  {
   "cell_type": "code",
   "execution_count": 1,
   "metadata": {},
   "outputs": [],
   "source": [
    "import turtle\n",
    "import math\n",
    "x = 0\n",
    "y = 0\n",
    "Vx = 10\n",
    "Vy = 40\n",
    "dt = 0.1\n",
    "ay = -10\n",
    "for i in range(100):    \n",
    "    x += Vx*dt\n",
    "    y += Vy*dt + ay*dt**2/2\n",
    "    Vy += ay*dt\n",
    "    if abs(y) <=0.05:\n",
    "        Vy = abs(Vy)\n",
    "    turtle.goto(x, y)"
   ]
  },
  {
   "cell_type": "markdown",
   "metadata": {},
   "source": [
    "## Лекция 3: функции и пространство имен"
   ]
  },
  {
   "cell_type": "code",
   "execution_count": 1,
   "metadata": {},
   "outputs": [
    {
     "name": "stdout",
     "output_type": "stream",
     "text": [
      "Hello\n"
     ]
    }
   ],
   "source": [
    "def foo():\n",
    "    x = 'Hello'\n",
    "    print(x)\n",
    "\n",
    "x = 5\n",
    "foo()"
   ]
  },
  {
   "cell_type": "code",
   "execution_count": 2,
   "metadata": {},
   "outputs": [
    {
     "name": "stdout",
     "output_type": "stream",
     "text": [
      "5\n"
     ]
    }
   ],
   "source": [
    "def foo():\n",
    "    x = 'Hello'\n",
    "\n",
    "x = 5\n",
    "foo()\n",
    "print(x)"
   ]
  },
  {
   "cell_type": "code",
   "execution_count": 8,
   "metadata": {},
   "outputs": [
    {
     "name": "stdout",
     "output_type": "stream",
     "text": [
      "9\n"
     ]
    }
   ],
   "source": [
    "#аннотация\n",
    "def foo(x)->int:\n",
    "    return x**2\n",
    "\n",
    "def bar()->None:\n",
    "    pass\n",
    "\n",
    "y = foo(3)\n",
    "bar()\n",
    "print(y)"
   ]
  },
  {
   "cell_type": "code",
   "execution_count": 10,
   "metadata": {},
   "outputs": [
    {
     "name": "stdout",
     "output_type": "stream",
     "text": [
      "[7, 2, 3]\n"
     ]
    }
   ],
   "source": [
    "def foo(X, y):\n",
    "    X[0] = y\n",
    "    X = [4,5,6]\n",
    "\n",
    "A = [1,2,3]\n",
    "y = foo(A, 7)\n",
    "print(A)\n",
    "# выйдет [7,2,3] а не [4,5,6]!!!!"
   ]
  },
  {
   "cell_type": "code",
   "execution_count": 12,
   "metadata": {},
   "outputs": [
    {
     "name": "stdout",
     "output_type": "stream",
     "text": [
      "bar arg =  [1, 2, 3]\n",
      "bar arg =  1\n",
      "bar arg =  2\n",
      "bar arg =  3\n",
      "Separator arg =  jelly\n",
      "Separator arg =  fish\n"
     ]
    }
   ],
   "source": [
    "def bar(*args, named_parameter = 'bar'):\n",
    "    for arg in args:\n",
    "        print(named_parameter, 'arg = ', arg)\n",
    "bar()\n",
    "bar([1,2,3])\n",
    "bar(1,2,3)\n",
    "bar('jelly', 'fish', named_parameter = 'Separator')"
   ]
  },
  {
   "cell_type": "code",
   "execution_count": 13,
   "metadata": {},
   "outputs": [
    {
     "name": "stdout",
     "output_type": "stream",
     "text": [
      "Collecting pygame\n",
      "  Downloading pygame-2.0.1-cp38-cp38-win_amd64.whl (5.2 MB)\n",
      "Installing collected packages: pygame\n",
      "Successfully installed pygame-2.0.1\n"
     ]
    }
   ],
   "source": [
    "!pip install pygame"
   ]
  },
  {
   "cell_type": "code",
   "execution_count": 14,
   "metadata": {},
   "outputs": [
    {
     "name": "stdout",
     "output_type": "stream",
     "text": [
      "pygame 2.0.1 (SDL 2.0.14, Python 3.8.5)\n",
      "Hello from the pygame community. https://www.pygame.org/contribute.html\n"
     ]
    }
   ],
   "source": [
    "# Import a library of functions called 'pygame'\n",
    "import pygame\n",
    "from math import pi\n",
    " \n",
    "# Initialize the game engine\n",
    "pygame.init()\n",
    " \n",
    "# Define the colors we will use in RGB format\n",
    "BLACK = (  0,   0,   0)\n",
    "WHITE = (255, 255, 255)\n",
    "BLUE =  (  0,   0, 255)\n",
    "GREEN = (  0, 255,   0)\n",
    "RED =   (255,   0,   0)\n",
    " \n",
    "# Set the height and width of the screen\n",
    "size = [400, 300]\n",
    "screen = pygame.display.set_mode(size)\n",
    " \n",
    "pygame.display.set_caption(\"Example code for the draw module\")\n",
    " \n",
    "#Loop until the user clicks the close button.\n",
    "done = False\n",
    "clock = pygame.time.Clock()\n",
    " \n",
    "while not done:\n",
    " \n",
    "    # This limits the while loop to a max of 10 times per second.\n",
    "    # Leave this out and we will use all CPU we can.\n",
    "    clock.tick(10)\n",
    "     \n",
    "    for event in pygame.event.get(): # User did something\n",
    "        if event.type == pygame.QUIT: # If user clicked close\n",
    "            done=True # Flag that we are done so we exit this loop\n",
    " \n",
    "    # All drawing code happens after the for loop and but\n",
    "    # inside the main while done==False loop.\n",
    "     \n",
    "    # Clear the screen and set the screen background\n",
    "    screen.fill(WHITE)\n",
    " \n",
    "    # Draw on the screen a GREEN line from (0, 0) to (50, 30) \n",
    "    # 5 pixels wide.\n",
    "    pygame.draw.line(screen, GREEN, [0, 0], [50,30], 5)\n",
    " \n",
    "    # Draw on the screen 3 BLACK lines, each 5 pixels wide.\n",
    "    # The 'False' means the first and last points are not connected.\n",
    "    pygame.draw.lines(screen, BLACK, False, [[0, 80], [50, 90], [200, 80], [220, 30]], 5)\n",
    "    \n",
    "    # Draw on the screen a GREEN line from (0, 50) to (50, 80) \n",
    "    # Because it is an antialiased line, it is 1 pixel wide.\n",
    "    pygame.draw.aaline(screen, GREEN, [0, 50],[50, 80], True)\n",
    "\n",
    "    # Draw a rectangle outline\n",
    "    pygame.draw.rect(screen, BLACK, [75, 10, 50, 20], 2)\n",
    "     \n",
    "    # Draw a solid rectangle\n",
    "    pygame.draw.rect(screen, BLACK, [150, 10, 50, 20])\n",
    "\n",
    "    # Draw a rectangle with rounded corners\n",
    "    pygame.draw.rect(screen, GREEN, [115, 210, 70, 40], 10, border_radius=15)\n",
    "    pygame.draw.rect(screen, RED, [135, 260, 50, 30], 0, border_radius=10, border_top_left_radius=0,\n",
    "                     border_bottom_right_radius=15)\n",
    "\n",
    "    # Draw an ellipse outline, using a rectangle as the outside boundaries\n",
    "    pygame.draw.ellipse(screen, RED, [225, 10, 50, 20], 2) \n",
    "\n",
    "    # Draw an solid ellipse, using a rectangle as the outside boundaries\n",
    "    pygame.draw.ellipse(screen, RED, [300, 10, 50, 20]) \n",
    " \n",
    "    # This draws a triangle using the polygon command\n",
    "    pygame.draw.polygon(screen, BLACK, [[100, 100], [0, 200], [200, 200]], 5)\n",
    "  \n",
    "    # Draw an arc as part of an ellipse. \n",
    "    # Use radians to determine what angle to draw.\n",
    "    pygame.draw.arc(screen, BLACK,[210, 75, 150, 125], 0, pi/2, 2)\n",
    "    pygame.draw.arc(screen, GREEN,[210, 75, 150, 125], pi/2, pi, 2)\n",
    "    pygame.draw.arc(screen, BLUE, [210, 75, 150, 125], pi,3*pi/2, 2)\n",
    "    pygame.draw.arc(screen, RED,  [210, 75, 150, 125], 3*pi/2, 2*pi, 2)\n",
    "    \n",
    "    # Draw a circle\n",
    "    pygame.draw.circle(screen, BLUE, [60, 250], 40)\n",
    "\n",
    "    # Draw only one circle quadrant\n",
    "    pygame.draw.circle(screen, BLUE, [250, 250], 40, 0, draw_top_right=True)\n",
    "    pygame.draw.circle(screen, RED, [250, 250], 40, 30, draw_top_left=True)\n",
    "    pygame.draw.circle(screen, GREEN, [250, 250], 40, 20, draw_bottom_left=True)\n",
    "    pygame.draw.circle(screen, BLACK, [250, 250], 40, 10, draw_bottom_right=True)\n",
    "\n",
    "    # Go ahead and update the screen with what we've drawn.\n",
    "    # This MUST happen after all the other drawing commands.\n",
    "    pygame.display.flip()\n",
    " \n",
    "# Be IDLE friendly\n",
    "pygame.quit()"
   ]
  },
  {
   "cell_type": "code",
   "execution_count": null,
   "metadata": {},
   "outputs": [],
   "source": []
  }
 ],
 "metadata": {
  "kernelspec": {
   "display_name": "Python 3",
   "language": "python",
   "name": "python3"
  },
  "language_info": {
   "codemirror_mode": {
    "name": "ipython",
    "version": 3
   },
   "file_extension": ".py",
   "mimetype": "text/x-python",
   "name": "python",
   "nbconvert_exporter": "python",
   "pygments_lexer": "ipython3",
   "version": "3.8.5"
  }
 },
 "nbformat": 4,
 "nbformat_minor": 4
}
